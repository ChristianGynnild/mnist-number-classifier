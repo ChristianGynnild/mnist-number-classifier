{
 "cells": [
  {
   "cell_type": "code",
   "execution_count": null,
   "metadata": {},
   "outputs": [],
   "source": [
    "%matplotlib ipympl\n",
    "import dataset\n",
    "from matplotlib import pyplot as plt\n",
    "\n",
    "train = True\n",
    "\n",
    "if(train):\n",
    "    images = dataset.load_images(\"../datasets/train-images-idx3-ubyte\")\n",
    "    labels = dataset.load_labels(\"../datasets/train-labels-idx1-ubyte\")\n",
    "else:\n",
    "    images = dataset.load_images(\"../datasets/t10k-images-idx3-ubyte\")\n",
    "    labels = dataset.load_labels(\"../datasets/t10k-labels-idx1-ubyte\")\n",
    "\n",
    "for i in range(0,9):\n",
    "    plt.title(labels[i])\n",
    "    plt.imshow(images[i], interpolation='nearest')\n",
    "    plt.show()\n"
   ]
  }
 ],
 "metadata": {
  "kernelspec": {
   "display_name": "Python 3.10.3 ('venv': venv)",
   "language": "python",
   "name": "python3"
  },
  "language_info": {
   "codemirror_mode": {
    "name": "ipython",
    "version": 3
   },
   "file_extension": ".py",
   "mimetype": "text/x-python",
   "name": "python",
   "nbconvert_exporter": "python",
   "pygments_lexer": "ipython3",
   "version": "3.10.3"
  },
  "orig_nbformat": 4,
  "vscode": {
   "interpreter": {
    "hash": "cc6ae5320b60514d309ed437918b76ce4c17c63b302052ec606a224ef4b35f2d"
   }
  }
 },
 "nbformat": 4,
 "nbformat_minor": 2
}
