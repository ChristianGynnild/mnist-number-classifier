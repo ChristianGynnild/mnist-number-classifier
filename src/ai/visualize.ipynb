{
 "cells": [
  {
   "cell_type": "code",
   "execution_count": null,
   "metadata": {},
   "outputs": [],
   "source": [
    "%matplotlib ipympl\n",
    "import dataset\n",
    "from matplotlib import pyplot as plt\n",
    "import importlib\n",
    "\n",
    "importlib.reload(dataset)\n",
    "\n",
    "train = True\n",
    "\n",
    "if(train):\n",
    "    images = dataset.load_images(\"../datasets/train-images-idx3-ubyte\")\n",
    "    labels = dataset.load_labels(\"../datasets/train-labels-idx1-ubyte\")\n",
    "else:\n",
    "    images = dataset.load_images(\"../datasets/t10k-images-idx3-ubyte\")\n",
    "    labels = dataset.load_labels(\"../datasets/t10k-labels-idx1-ubyte\")\n",
    "\n",
    "for i in range(0,9):\n",
    "    plt.title(labels[i])\n",
    "    image = dataset.image_preprocessing(images[i])\n",
    "    image *= 255\n",
    "    plt.imshow(image, interpolation='nearest', cmap='gray', vmin=0, vmax=255)\n",
    "    plt.show()\n"
   ]
  }
 ],
 "metadata": {
  "kernelspec": {
   "display_name": "Python 3",
   "language": "python",
   "name": "python3"
  },
  "language_info": {
   "codemirror_mode": {
    "name": "ipython",
    "version": 3
   },
   "file_extension": ".py",
   "mimetype": "text/x-python",
   "name": "python",
   "nbconvert_exporter": "python",
   "pygments_lexer": "ipython3",
   "version": "3.10.4"
  },
  "orig_nbformat": 4,
  "vscode": {
   "interpreter": {
    "hash": "3ad933181bd8a04b432d3370b9dc3b0662ad032c4dfaa4e4f1596c548f763858"
   }
  }
 },
 "nbformat": 4,
 "nbformat_minor": 2
}
